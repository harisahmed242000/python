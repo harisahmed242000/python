{
 "cells": [
  {
   "cell_type": "markdown",
   "metadata": {},
   "source": [
    "# Calculator Assignment"
   ]
  },
  {
   "cell_type": "code",
   "execution_count": null,
   "metadata": {},
   "outputs": [],
   "source": [
    "# Calculator\n",
    "print(\"What funtion do you want to perform\")\n",
    "\n",
    "print(\"1.Addition\")\n",
    "print(\"2.Subtraction\")\n",
    "print(\"3.Multiplication\")\n",
    "print(\"4.Division\")\n",
    "print(\"5.Power function\")\n",
    "\n",
    "option = input(\"Enter option in number:\")\n",
    "\n",
    "number1 = int(input(\"Enter first number\"))\n",
    "number2 = int(input(\"Enter second number\"))\n",
    "\n",
    "if option == \"1\":\n",
    "    number = number1 + number2\n",
    "    print(number)\n",
    "elif option == \"2\":\n",
    "    number = number1 - number2\n",
    "    print(number)\n",
    "elif option == \"3\":\n",
    "    number = number1 * number2\n",
    "    print(number)\n",
    "elif option == \"4\":\n",
    "    number = number1 / number2\n",
    "    print(number)\n",
    "    \n",
    "elif option == \"5\":\n",
    "    number = number1**number2\n",
    "    print(number)\n"
   ]
  },
  {
   "cell_type": "markdown",
   "metadata": {},
   "source": [
    "# Identifying Numbers in a list\n"
   ]
  },
  {
   "cell_type": "code",
   "execution_count": null,
   "metadata": {},
   "outputs": [],
   "source": [
    "list24 = [20,\"haris\",49,68,\"hello\",\"244882\"]\n",
    "number = 0\n",
    "for num in list24:\n",
    "    if num >= number:\n",
    "        num = number\n",
    "        print(\"number in list are\",numbers)\n",
    "    "
   ]
  },
  {
   "cell_type": "markdown",
   "metadata": {},
   "source": [
    "# Adding a key to a dictonary\n"
   ]
  },
  {
   "cell_type": "code",
   "execution_count": null,
   "metadata": {},
   "outputs": [],
   "source": [
    "dictonary = {\"first_name\":\"haris\",\"last_name\":\"ahmed\"}\n",
    "print(\"Existing dictonary is\",dictonary)\n",
    "new_key = input(\"Please enter a new key for dictonary\")\n",
    "new_value = input(\"please enter a new value for that key\")\n",
    "dictonary[new_key] = new_value\n",
    "print(dictonary)\n",
    "\n"
   ]
  },
  {
   "cell_type": "markdown",
   "metadata": {},
   "source": [
    "# Sum all the numeric items in a dictionary"
   ]
  },
  {
   "cell_type": "code",
   "execution_count": null,
   "metadata": {},
   "outputs": [],
   "source": [
    "dictonary1 = {\"age\":12,\"numbers\":2448}\n",
    "print(sum(dictonary1.values()))\n"
   ]
  },
  {
   "cell_type": "markdown",
   "metadata": {},
   "source": [
    "# Identifying duplicate values in a list\n"
   ]
  },
  {
   "cell_type": "code",
   "execution_count": null,
   "metadata": {},
   "outputs": [],
   "source": [
    "duplicate = [2, 4, 10, 20, 5, 2, 20, 4] \n",
    "final_list = [] \n",
    "duplicated_numbers = [] \n",
    "for num in duplicate: \n",
    "    if num not in final_list: \n",
    "        final_list.append(num) \n",
    "    if num in final_list:\n",
    "        duplicated_numbers.append(num)\n",
    "print(\"List without duplicates\",final_list)\n",
    "print(\"List of duplicates\",duplicated_numbers)"
   ]
  },
  {
   "cell_type": "markdown",
   "metadata": {},
   "source": [
    "# To check if a key exist in a dictonary\n"
   ]
  },
  {
   "cell_type": "code",
   "execution_count": null,
   "metadata": {},
   "outputs": [],
   "source": [
    "dictonary = {\"first_name\":\"haris\",\"last_name\":\"ahmed\"}\n",
    "print(\"Existing dictonary is\",dictonary)\n",
    "new_key = input(\"Please enter a new key for dictonary\")\n",
    "new_value = input(\"please enter a new value for that key\")\n",
    "if new_key in dictonary:\n",
    "    print(\"The key already exist in the current dictonary\")\n",
    "elif:\n",
    "    dictonary[new_key] = new_value\n",
    "    print(dictonary)\n",
    "    \n",
    "print(dictonary)"
   ]
  }
 ],
 "metadata": {
  "kernelspec": {
   "display_name": "Python 3",
   "language": "python",
   "name": "python3"
  },
  "language_info": {
   "codemirror_mode": {
    "name": "ipython",
    "version": 3
   },
   "file_extension": ".py",
   "mimetype": "text/x-python",
   "name": "python",
   "nbconvert_exporter": "python",
   "pygments_lexer": "ipython3",
   "version": "3.7.3"
  }
 },
 "nbformat": 4,
 "nbformat_minor": 2
}
